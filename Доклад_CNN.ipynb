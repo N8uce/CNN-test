{
  "cells": [
    {
      "cell_type": "markdown",
      "metadata": {
        "id": "view-in-github",
        "colab_type": "text"
      },
      "source": [
        "<a href=\"https://colab.research.google.com/github/N8uce/CNN-test/blob/main/%D0%94%D0%BE%D0%BA%D0%BB%D0%B0%D0%B4_CNN.ipynb\" target=\"_parent\"><img src=\"https://colab.research.google.com/assets/colab-badge.svg\" alt=\"Open In Colab\"/></a>"
      ]
    },
    {
      "cell_type": "code",
      "execution_count": null,
      "metadata": {
        "id": "5w47-vCjcQF7",
        "colab": {
          "base_uri": "https://localhost:8080/"
        },
        "outputId": "815c1593-3176-462c-e1e9-7bfbc1a3f712"
      },
      "outputs": [
        {
          "output_type": "stream",
          "name": "stdout",
          "text": [
            "Drive already mounted at /content/drive; to attempt to forcibly remount, call drive.mount(\"/content/drive\", force_remount=True).\n"
          ]
        }
      ],
      "source": [
        "from google.colab import drive\n",
        "drive.mount('/content/drive')"
      ]
    },
    {
      "cell_type": "code",
      "source": [
        "from keras.applications import VGG16\n",
        "\n",
        "# Загрузка предварительно обученной модели VGG16\n",
        "model = VGG16(weights='imagenet', include_top= False , input_shape=(256, 256, 3))\n",
        "\n",
        "# Вывод архитектуры модели\n",
        "model.summary()\n"
      ],
      "metadata": {
        "colab": {
          "base_uri": "https://localhost:8080/"
        },
        "id": "-tamHsouQl77",
        "outputId": "e62fa0bc-9e02-450a-b064-1113a6785876"
      },
      "execution_count": null,
      "outputs": [
        {
          "output_type": "stream",
          "name": "stdout",
          "text": [
            "Downloading data from https://storage.googleapis.com/tensorflow/keras-applications/vgg16/vgg16_weights_tf_dim_ordering_tf_kernels_notop.h5\n",
            "58889256/58889256 [==============================] - 1s 0us/step\n",
            "Model: \"vgg16\"\n",
            "_________________________________________________________________\n",
            " Layer (type)                Output Shape              Param #   \n",
            "=================================================================\n",
            " input_1 (InputLayer)        [(None, 256, 256, 3)]     0         \n",
            "                                                                 \n",
            " block1_conv1 (Conv2D)       (None, 256, 256, 64)      1792      \n",
            "                                                                 \n",
            " block1_conv2 (Conv2D)       (None, 256, 256, 64)      36928     \n",
            "                                                                 \n",
            " block1_pool (MaxPooling2D)  (None, 128, 128, 64)      0         \n",
            "                                                                 \n",
            " block2_conv1 (Conv2D)       (None, 128, 128, 128)     73856     \n",
            "                                                                 \n",
            " block2_conv2 (Conv2D)       (None, 128, 128, 128)     147584    \n",
            "                                                                 \n",
            " block2_pool (MaxPooling2D)  (None, 64, 64, 128)       0         \n",
            "                                                                 \n",
            " block3_conv1 (Conv2D)       (None, 64, 64, 256)       295168    \n",
            "                                                                 \n",
            " block3_conv2 (Conv2D)       (None, 64, 64, 256)       590080    \n",
            "                                                                 \n",
            " block3_conv3 (Conv2D)       (None, 64, 64, 256)       590080    \n",
            "                                                                 \n",
            " block3_pool (MaxPooling2D)  (None, 32, 32, 256)       0         \n",
            "                                                                 \n",
            " block4_conv1 (Conv2D)       (None, 32, 32, 512)       1180160   \n",
            "                                                                 \n",
            " block4_conv2 (Conv2D)       (None, 32, 32, 512)       2359808   \n",
            "                                                                 \n",
            " block4_conv3 (Conv2D)       (None, 32, 32, 512)       2359808   \n",
            "                                                                 \n",
            " block4_pool (MaxPooling2D)  (None, 16, 16, 512)       0         \n",
            "                                                                 \n",
            " block5_conv1 (Conv2D)       (None, 16, 16, 512)       2359808   \n",
            "                                                                 \n",
            " block5_conv2 (Conv2D)       (None, 16, 16, 512)       2359808   \n",
            "                                                                 \n",
            " block5_conv3 (Conv2D)       (None, 16, 16, 512)       2359808   \n",
            "                                                                 \n",
            " block5_pool (MaxPooling2D)  (None, 8, 8, 512)         0         \n",
            "                                                                 \n",
            "=================================================================\n",
            "Total params: 14714688 (56.13 MB)\n",
            "Trainable params: 14714688 (56.13 MB)\n",
            "Non-trainable params: 0 (0.00 Byte)\n",
            "_________________________________________________________________\n"
          ]
        }
      ]
    },
    {
      "cell_type": "code",
      "source": [
        "from sklearn.model_selection import train_test_split\n",
        "import os\n",
        "import glob\n",
        "\n",
        "# Путь к вашему датасету\n",
        "dataset_path = '/content/drive/MyDrive/classif/5mammal'\n",
        "\n",
        "# Получение списка всех файлов\n",
        "all_files = glob.glob(os.path.join(dataset_path, '*/*'))\n",
        "\n",
        "# Разделение данных на обучающий и тестовый наборы\n",
        "train_files, test_files = train_test_split(all_files, test_size=0.2, random_state=42)\n",
        "\n",
        "\n",
        "print(f'Количество обучающих файлов: {len(train_files)}')\n",
        "print(f'Количество тестовых файлов: {len(test_files)}')\n",
        "\n",
        "\n"
      ],
      "metadata": {
        "colab": {
          "base_uri": "https://localhost:8080/"
        },
        "id": "37WLcpsUes_a",
        "outputId": "335b2643-4a9b-4e17-eded-709ee5957709"
      },
      "execution_count": null,
      "outputs": [
        {
          "output_type": "stream",
          "name": "stdout",
          "text": [
            "Количество обучающих файлов: 1240\n",
            "Количество тестовых файлов: 310\n"
          ]
        }
      ]
    },
    {
      "cell_type": "code",
      "source": [
        "import os\n",
        "import glob\n",
        "import shutil\n",
        "from sklearn.model_selection import train_test_split\n",
        "from collections import Counter\n",
        "\n",
        "# Путь к вашему датасету\n",
        "dataset_path = '/content/drive/MyDrive/classif/5mammal'\n",
        "\n",
        "# Получение списка всех файлов и их классов\n",
        "all_files = glob.glob(os.path.join(dataset_path, '*/*'))\n",
        "all_labels = [os.path.basename(os.path.dirname(file)) for file in all_files]\n",
        "\n",
        "# Разделение данных на обучающий и тестовый наборы с учётом классов\n",
        "train_files, test_files = train_test_split(all_files, test_size=0.2, random_state=42, stratify=all_labels)\n",
        "\n",
        "print(f'Количество обучающих файлов: {len(train_files)}')\n",
        "print(f'Количество тестовых файлов: {len(test_files)}')\n",
        "\n",
        "# Создание папок\n",
        "train_dir = '/content/drive/MyDrive/classif/train5'\n",
        "test_dir = '/content/drive/MyDrive/classif/test5'\n",
        "os.makedirs(train_dir, exist_ok=True)\n",
        "os.makedirs(test_dir, exist_ok=True)\n",
        "\n",
        "# Копирование файлов с сохранением структуры классов\n",
        "for file in train_files:\n",
        "    destination = file.replace(dataset_path, train_dir)\n",
        "    os.makedirs(os.path.dirname(destination), exist_ok=True)\n",
        "    shutil.copy(file, destination)\n",
        "\n",
        "for file in test_files:\n",
        "    destination = file.replace(dataset_path, test_dir)\n",
        "    os.makedirs(os.path.dirname(destination), exist_ok=True)\n",
        "    shutil.copy(file, destination)\n",
        "\n",
        "# Проверка баланса классов в обучающем и тестовом наборах\n",
        "train_labels = [os.path.basename(os.path.dirname(file)) for file in train_files]\n",
        "test_labels = [os.path.basename(os.path.dirname(file)) for file in test_files]\n",
        "\n",
        "print('Распределение классов в обучающем наборе:', Counter(train_labels))\n",
        "print('Распределение классов в тестовом наборе:', Counter(test_labels))\n"
      ],
      "metadata": {
        "colab": {
          "base_uri": "https://localhost:8080/"
        },
        "id": "7T19rm5oSC3Z",
        "outputId": "b6fb7969-bd8e-411b-f74b-72c574576db2"
      },
      "execution_count": null,
      "outputs": [
        {
          "output_type": "stream",
          "name": "stdout",
          "text": [
            "Количество обучающих файлов: 1240\n",
            "Количество тестовых файлов: 310\n",
            "Распределение классов в обучающем наборе: Counter({'zebra': 248, 'koala': 248, 'giraffe': 248, 'dolphin': 248, 'tapir': 248})\n",
            "Распределение классов в тестовом наборе: Counter({'tapir': 62, 'zebra': 62, 'giraffe': 62, 'koala': 62, 'dolphin': 62})\n"
          ]
        }
      ]
    },
    {
      "cell_type": "code",
      "source": [
        "import tensorflow as tf\n",
        "from tensorflow.keras.preprocessing.image import ImageDataGenerator\n",
        "from tensorflow.keras.layers import Dropout\n",
        "from tensorflow.keras.callbacks import EarlyStopping\n",
        "from tensorflow.keras import layers\n",
        "\n",
        "num_classes = 5\n",
        "img_resolution = (256, 256)\n",
        "batch_size = 64\n",
        "dataset_dir = '/content/drive/MyDrive/classif/train5'\n",
        "\n",
        "# Создание генератора изображений\n",
        "datagen = ImageDataGenerator(\n",
        "    rescale=1./255,\n",
        "    validation_split=0.125,\n",
        "    rotation_range=45,  #Диапазон значений для случайного поворота изображений\n",
        "    shear_range=0.2,  #Интенсивность сдвига\n",
        "    zoom_range=0.35,  #Интенсивность зума\n",
        "    horizontal_flip= True, #Cлучайный горизонтальный переворот изображений\n",
        ")\n",
        "\n",
        "# Генераторы для обучающего и валидационного наборов\n",
        "train_generator = datagen.flow_from_directory(\n",
        "    dataset_dir,\n",
        "    target_size=img_resolution,\n",
        "    batch_size=batch_size,\n",
        "    class_mode='categorical',\n",
        "    subset='training')\n",
        "\n",
        "validation_generator = datagen.flow_from_directory(\n",
        "    dataset_dir,\n",
        "    target_size=img_resolution,\n",
        "    batch_size=batch_size,\n",
        "    class_mode='categorical',\n",
        "    subset='validation')\n",
        "\n",
        "model = tf.keras.models.Sequential([\n",
        "    #поступает изображение и начинается свёртка + ReLu\n",
        "    tf.keras.layers.Conv2D(16, (3, 3), padding='same',activation='relu', input_shape=(256, 256, 3)),\n",
        "    tf.keras.layers.Conv2D(16, (3, 3), padding='same',activation='relu'),\n",
        "    #пуллинг\n",
        "    tf.keras.layers.MaxPooling2D((2, 2),strides=(2, 2)),\n",
        "    #свёртка + ReLu\n",
        "    tf.keras.layers.Conv2D(64, (3, 3), padding='same',activation='relu'),\n",
        "    tf.keras.layers.Conv2D(64, (3, 3), padding='same',activation='relu'),\n",
        "    Dropout(0.1),\n",
        "    tf.keras.layers.MaxPooling2D((2, 2),strides=(2, 2)),\n",
        "\n",
        "\n",
        "    tf.keras.layers.Conv2D(128, (3, 3), padding='same',activation='relu'),\n",
        "    tf.keras.layers.Conv2D(128, (3, 3), padding='same',activation='relu'),\n",
        "    Dropout(0.1),\n",
        "    tf.keras.layers.MaxPooling2D((2, 2),strides=(2, 2)),\n",
        "\n",
        "    #Выпрямляющий слой\n",
        "    tf.keras.layers.Flatten(),\n",
        "\n",
        "    #полносвязный слой с  нейронами\n",
        "    tf.keras.layers.Dense(75, activation='relu'),\n",
        "    tf.keras.layers.Dense(50, activation='relu'),\n",
        "    Dropout(0.35),\n",
        "    #Выходной слой\n",
        "    tf.keras.layers.Dense(num_classes, activation='softmax')\n",
        "])\n",
        "\n",
        "lt = 0.001\n",
        "optimizer = tf.keras.optimizers.Adam(learning_rate = lt)\n",
        "\n",
        "model.compile(optimizer=optimizer, loss='categorical_crossentropy', metrics=['accuracy'])\n",
        "model.summary()"
      ],
      "metadata": {
        "colab": {
          "base_uri": "https://localhost:8080/"
        },
        "id": "S3Lo34Py0Ymt",
        "outputId": "4c2d3687-2d39-47f3-a9cd-06577d2da4d5"
      },
      "execution_count": null,
      "outputs": [
        {
          "output_type": "stream",
          "name": "stdout",
          "text": [
            "Found 1085 images belonging to 5 classes.\n",
            "Found 155 images belonging to 5 classes.\n",
            "Model: \"sequential_14\"\n",
            "_________________________________________________________________\n",
            " Layer (type)                Output Shape              Param #   \n",
            "=================================================================\n",
            " conv2d_84 (Conv2D)          (None, 256, 256, 16)      448       \n",
            "                                                                 \n",
            " conv2d_85 (Conv2D)          (None, 256, 256, 16)      2320      \n",
            "                                                                 \n",
            " max_pooling2d_42 (MaxPooli  (None, 128, 128, 16)      0         \n",
            " ng2D)                                                           \n",
            "                                                                 \n",
            " conv2d_86 (Conv2D)          (None, 128, 128, 64)      9280      \n",
            "                                                                 \n",
            " conv2d_87 (Conv2D)          (None, 128, 128, 64)      36928     \n",
            "                                                                 \n",
            " dropout_42 (Dropout)        (None, 128, 128, 64)      0         \n",
            "                                                                 \n",
            " max_pooling2d_43 (MaxPooli  (None, 64, 64, 64)        0         \n",
            " ng2D)                                                           \n",
            "                                                                 \n",
            " conv2d_88 (Conv2D)          (None, 64, 64, 128)       73856     \n",
            "                                                                 \n",
            " conv2d_89 (Conv2D)          (None, 64, 64, 128)       147584    \n",
            "                                                                 \n",
            " dropout_43 (Dropout)        (None, 64, 64, 128)       0         \n",
            "                                                                 \n",
            " max_pooling2d_44 (MaxPooli  (None, 32, 32, 128)       0         \n",
            " ng2D)                                                           \n",
            "                                                                 \n",
            " flatten_14 (Flatten)        (None, 131072)            0         \n",
            "                                                                 \n",
            " dense_42 (Dense)            (None, 75)                9830475   \n",
            "                                                                 \n",
            " dense_43 (Dense)            (None, 50)                3800      \n",
            "                                                                 \n",
            " dropout_44 (Dropout)        (None, 50)                0         \n",
            "                                                                 \n",
            " dense_44 (Dense)            (None, 5)                 255       \n",
            "                                                                 \n",
            "=================================================================\n",
            "Total params: 10104946 (38.55 MB)\n",
            "Trainable params: 10104946 (38.55 MB)\n",
            "Non-trainable params: 0 (0.00 Byte)\n",
            "_________________________________________________________________\n"
          ]
        }
      ]
    },
    {
      "cell_type": "code",
      "source": [
        "#early_stop = EarlyStopping(monitor='val_loss', patience=10, restore_best_weights= True)\n",
        "from keras.callbacks import ReduceLROnPlateau\n",
        "from tensorflow.keras.callbacks import ModelCheckpoint\n",
        "filepath = \"/content/drive/MyDrive/classif/model-{epoch:03d}.model\"\n",
        "early_stop = EarlyStopping(monitor='val_loss', patience=15)\n",
        "checkpoint = ModelCheckpoint(filepath, monitor='val_loss', verbose=0, save_best_only=True, mode='min')\n",
        "red_lr = ReduceLROnPlateau(monitor = 'val_loss',patience = 5, verbose =1, factor = 0.1, min_lr=0.00000001)\n",
        "history = model.fit(train_generator, validation_data=validation_generator, epochs=200, callbacks=[red_lr,early_stop])"
      ],
      "metadata": {
        "colab": {
          "base_uri": "https://localhost:8080/",
          "height": 1000
        },
        "id": "Kvfwph-Z0bzu",
        "outputId": "b4113c7e-b579-45bd-a31d-af57e37002f2"
      },
      "execution_count": null,
      "outputs": [
        {
          "output_type": "stream",
          "name": "stdout",
          "text": [
            "Epoch 1/200\n",
            "16/16 [==============================] - 55s 2s/step - loss: 1.6481 - accuracy: 0.2412 - val_loss: 1.4761 - val_accuracy: 0.3061 - lr: 0.0010\n",
            "Epoch 2/200\n",
            "16/16 [==============================] - 26s 2s/step - loss: 1.4298 - accuracy: 0.3276 - val_loss: 1.4761 - val_accuracy: 0.3796 - lr: 0.0010\n",
            "Epoch 3/200\n",
            "16/16 [==============================] - 26s 2s/step - loss: 1.3465 - accuracy: 0.3719 - val_loss: 1.3000 - val_accuracy: 0.4082 - lr: 0.0010\n",
            "Epoch 4/200\n",
            "16/16 [==============================] - 26s 2s/step - loss: 1.2619 - accuracy: 0.4342 - val_loss: 1.2465 - val_accuracy: 0.4776 - lr: 0.0010\n",
            "Epoch 5/200\n",
            "16/16 [==============================] - 26s 2s/step - loss: 1.2103 - accuracy: 0.4874 - val_loss: 1.1933 - val_accuracy: 0.4735 - lr: 0.0010\n",
            "Epoch 6/200\n",
            "16/16 [==============================] - 25s 2s/step - loss: 1.1973 - accuracy: 0.4754 - val_loss: 1.1535 - val_accuracy: 0.5224 - lr: 0.0010\n",
            "Epoch 7/200\n",
            "16/16 [==============================] - 30s 2s/step - loss: 1.1491 - accuracy: 0.5126 - val_loss: 1.1770 - val_accuracy: 0.4735 - lr: 0.0010\n",
            "Epoch 8/200\n",
            "16/16 [==============================] - 26s 2s/step - loss: 1.1333 - accuracy: 0.5256 - val_loss: 1.1912 - val_accuracy: 0.5469 - lr: 0.0010\n",
            "Epoch 9/200\n",
            "16/16 [==============================] - 25s 2s/step - loss: 1.1047 - accuracy: 0.5387 - val_loss: 1.0877 - val_accuracy: 0.5388 - lr: 0.0010\n",
            "Epoch 10/200\n",
            "16/16 [==============================] - 26s 2s/step - loss: 1.0491 - accuracy: 0.5668 - val_loss: 1.0366 - val_accuracy: 0.6041 - lr: 0.0010\n",
            "Epoch 11/200\n",
            "16/16 [==============================] - 24s 2s/step - loss: 0.9162 - accuracy: 0.6492 - val_loss: 0.8079 - val_accuracy: 0.6694 - lr: 0.0010\n",
            "Epoch 12/200\n",
            "16/16 [==============================] - 30s 2s/step - loss: 0.8451 - accuracy: 0.6784 - val_loss: 0.8541 - val_accuracy: 0.6980 - lr: 0.0010\n",
            "Epoch 13/200\n",
            "16/16 [==============================] - 26s 2s/step - loss: 0.8314 - accuracy: 0.6874 - val_loss: 0.8319 - val_accuracy: 0.6653 - lr: 0.0010\n",
            "Epoch 14/200\n",
            "16/16 [==============================] - 26s 2s/step - loss: 0.8388 - accuracy: 0.6814 - val_loss: 0.8239 - val_accuracy: 0.6816 - lr: 0.0010\n",
            "Epoch 15/200\n",
            "16/16 [==============================] - 26s 2s/step - loss: 0.7946 - accuracy: 0.7116 - val_loss: 0.7904 - val_accuracy: 0.7265 - lr: 0.0010\n",
            "Epoch 16/200\n",
            "16/16 [==============================] - 24s 2s/step - loss: 0.7664 - accuracy: 0.7166 - val_loss: 0.8034 - val_accuracy: 0.7020 - lr: 0.0010\n",
            "Epoch 17/200\n",
            "16/16 [==============================] - 26s 2s/step - loss: 0.7708 - accuracy: 0.7307 - val_loss: 0.7690 - val_accuracy: 0.6980 - lr: 0.0010\n",
            "Epoch 18/200\n",
            "16/16 [==============================] - 24s 2s/step - loss: 0.7522 - accuracy: 0.7357 - val_loss: 0.7710 - val_accuracy: 0.6980 - lr: 0.0010\n",
            "Epoch 19/200\n",
            "16/16 [==============================] - 30s 2s/step - loss: 0.6949 - accuracy: 0.7578 - val_loss: 0.6779 - val_accuracy: 0.7347 - lr: 0.0010\n",
            "Epoch 20/200\n",
            "16/16 [==============================] - 26s 2s/step - loss: 0.6387 - accuracy: 0.7608 - val_loss: 0.7471 - val_accuracy: 0.7224 - lr: 0.0010\n",
            "Epoch 21/200\n",
            "16/16 [==============================] - 27s 2s/step - loss: 0.6993 - accuracy: 0.7397 - val_loss: 0.8745 - val_accuracy: 0.6776 - lr: 0.0010\n",
            "Epoch 22/200\n",
            "16/16 [==============================] - 25s 2s/step - loss: 0.7231 - accuracy: 0.7407 - val_loss: 0.7252 - val_accuracy: 0.7265 - lr: 0.0010\n",
            "Epoch 23/200\n",
            "16/16 [==============================] - 30s 2s/step - loss: 0.6297 - accuracy: 0.7668 - val_loss: 0.7325 - val_accuracy: 0.7265 - lr: 0.0010\n",
            "Epoch 24/200\n",
            "16/16 [==============================] - ETA: 0s - loss: 0.5726 - accuracy: 0.7899\n",
            "Epoch 24: ReduceLROnPlateau reducing learning rate to 0.00010000000474974513.\n",
            "16/16 [==============================] - 25s 2s/step - loss: 0.5726 - accuracy: 0.7899 - val_loss: 0.7045 - val_accuracy: 0.7347 - lr: 0.0010\n",
            "Epoch 25/200\n",
            "16/16 [==============================] - 26s 2s/step - loss: 0.5624 - accuracy: 0.8000 - val_loss: 0.6917 - val_accuracy: 0.7551 - lr: 1.0000e-04\n",
            "Epoch 26/200\n",
            "16/16 [==============================] - 26s 2s/step - loss: 0.5317 - accuracy: 0.8060 - val_loss: 0.6329 - val_accuracy: 0.7918 - lr: 1.0000e-04\n",
            "Epoch 27/200\n",
            "16/16 [==============================] - 26s 2s/step - loss: 0.5421 - accuracy: 0.8060 - val_loss: 0.6098 - val_accuracy: 0.7878 - lr: 1.0000e-04\n",
            "Epoch 28/200\n",
            "16/16 [==============================] - 31s 2s/step - loss: 0.5072 - accuracy: 0.8080 - val_loss: 0.6467 - val_accuracy: 0.7755 - lr: 1.0000e-04\n",
            "Epoch 29/200\n",
            "16/16 [==============================] - 30s 2s/step - loss: 0.4910 - accuracy: 0.8302 - val_loss: 0.6265 - val_accuracy: 0.7592 - lr: 1.0000e-04\n"
          ]
        },
        {
          "output_type": "error",
          "ename": "KeyboardInterrupt",
          "evalue": "",
          "traceback": [
            "\u001b[0;31m---------------------------------------------------------------------------\u001b[0m",
            "\u001b[0;31mKeyboardInterrupt\u001b[0m                         Traceback (most recent call last)",
            "\u001b[0;32m<ipython-input-18-2617da65a3f2>\u001b[0m in \u001b[0;36m<cell line: 8>\u001b[0;34m()\u001b[0m\n\u001b[1;32m      6\u001b[0m \u001b[0mcheckpoint\u001b[0m \u001b[0;34m=\u001b[0m \u001b[0mModelCheckpoint\u001b[0m\u001b[0;34m(\u001b[0m\u001b[0mfilepath\u001b[0m\u001b[0;34m,\u001b[0m \u001b[0mmonitor\u001b[0m\u001b[0;34m=\u001b[0m\u001b[0;34m'val_loss'\u001b[0m\u001b[0;34m,\u001b[0m \u001b[0mverbose\u001b[0m\u001b[0;34m=\u001b[0m\u001b[0;36m0\u001b[0m\u001b[0;34m,\u001b[0m \u001b[0msave_best_only\u001b[0m\u001b[0;34m=\u001b[0m\u001b[0;32mTrue\u001b[0m\u001b[0;34m,\u001b[0m \u001b[0mmode\u001b[0m\u001b[0;34m=\u001b[0m\u001b[0;34m'min'\u001b[0m\u001b[0;34m)\u001b[0m\u001b[0;34m\u001b[0m\u001b[0;34m\u001b[0m\u001b[0m\n\u001b[1;32m      7\u001b[0m \u001b[0mred_lr\u001b[0m \u001b[0;34m=\u001b[0m \u001b[0mReduceLROnPlateau\u001b[0m\u001b[0;34m(\u001b[0m\u001b[0mmonitor\u001b[0m \u001b[0;34m=\u001b[0m \u001b[0;34m'val_loss'\u001b[0m\u001b[0;34m,\u001b[0m\u001b[0mpatience\u001b[0m \u001b[0;34m=\u001b[0m \u001b[0;36m5\u001b[0m\u001b[0;34m,\u001b[0m \u001b[0mverbose\u001b[0m \u001b[0;34m=\u001b[0m\u001b[0;36m1\u001b[0m\u001b[0;34m,\u001b[0m \u001b[0mfactor\u001b[0m \u001b[0;34m=\u001b[0m \u001b[0;36m0.1\u001b[0m\u001b[0;34m,\u001b[0m \u001b[0mmin_lr\u001b[0m\u001b[0;34m=\u001b[0m\u001b[0;36m0.00000001\u001b[0m\u001b[0;34m)\u001b[0m\u001b[0;34m\u001b[0m\u001b[0;34m\u001b[0m\u001b[0m\n\u001b[0;32m----> 8\u001b[0;31m \u001b[0mhistory\u001b[0m \u001b[0;34m=\u001b[0m \u001b[0mmodel\u001b[0m\u001b[0;34m.\u001b[0m\u001b[0mfit\u001b[0m\u001b[0;34m(\u001b[0m\u001b[0mtrain_generator\u001b[0m\u001b[0;34m,\u001b[0m \u001b[0mvalidation_data\u001b[0m\u001b[0;34m=\u001b[0m\u001b[0mvalidation_generator\u001b[0m\u001b[0;34m,\u001b[0m \u001b[0mepochs\u001b[0m\u001b[0;34m=\u001b[0m\u001b[0;36m200\u001b[0m\u001b[0;34m,\u001b[0m \u001b[0mcallbacks\u001b[0m\u001b[0;34m=\u001b[0m\u001b[0;34m[\u001b[0m\u001b[0mred_lr\u001b[0m\u001b[0;34m,\u001b[0m\u001b[0mearly_stop\u001b[0m\u001b[0;34m]\u001b[0m\u001b[0;34m)\u001b[0m\u001b[0;34m\u001b[0m\u001b[0;34m\u001b[0m\u001b[0m\n\u001b[0m",
            "\u001b[0;32m/usr/local/lib/python3.10/dist-packages/keras/src/utils/traceback_utils.py\u001b[0m in \u001b[0;36merror_handler\u001b[0;34m(*args, **kwargs)\u001b[0m\n\u001b[1;32m     63\u001b[0m         \u001b[0mfiltered_tb\u001b[0m \u001b[0;34m=\u001b[0m \u001b[0;32mNone\u001b[0m\u001b[0;34m\u001b[0m\u001b[0;34m\u001b[0m\u001b[0m\n\u001b[1;32m     64\u001b[0m         \u001b[0;32mtry\u001b[0m\u001b[0;34m:\u001b[0m\u001b[0;34m\u001b[0m\u001b[0;34m\u001b[0m\u001b[0m\n\u001b[0;32m---> 65\u001b[0;31m             \u001b[0;32mreturn\u001b[0m \u001b[0mfn\u001b[0m\u001b[0;34m(\u001b[0m\u001b[0;34m*\u001b[0m\u001b[0margs\u001b[0m\u001b[0;34m,\u001b[0m \u001b[0;34m**\u001b[0m\u001b[0mkwargs\u001b[0m\u001b[0;34m)\u001b[0m\u001b[0;34m\u001b[0m\u001b[0;34m\u001b[0m\u001b[0m\n\u001b[0m\u001b[1;32m     66\u001b[0m         \u001b[0;32mexcept\u001b[0m \u001b[0mException\u001b[0m \u001b[0;32mas\u001b[0m \u001b[0me\u001b[0m\u001b[0;34m:\u001b[0m\u001b[0;34m\u001b[0m\u001b[0;34m\u001b[0m\u001b[0m\n\u001b[1;32m     67\u001b[0m             \u001b[0mfiltered_tb\u001b[0m \u001b[0;34m=\u001b[0m \u001b[0m_process_traceback_frames\u001b[0m\u001b[0;34m(\u001b[0m\u001b[0me\u001b[0m\u001b[0;34m.\u001b[0m\u001b[0m__traceback__\u001b[0m\u001b[0;34m)\u001b[0m\u001b[0;34m\u001b[0m\u001b[0;34m\u001b[0m\u001b[0m\n",
            "\u001b[0;32m/usr/local/lib/python3.10/dist-packages/keras/src/engine/training.py\u001b[0m in \u001b[0;36mfit\u001b[0;34m(self, x, y, batch_size, epochs, verbose, callbacks, validation_split, validation_data, shuffle, class_weight, sample_weight, initial_epoch, steps_per_epoch, validation_steps, validation_batch_size, validation_freq, max_queue_size, workers, use_multiprocessing)\u001b[0m\n\u001b[1;32m   1793\u001b[0m             \u001b[0mlogs\u001b[0m \u001b[0;34m=\u001b[0m \u001b[0;32mNone\u001b[0m\u001b[0;34m\u001b[0m\u001b[0;34m\u001b[0m\u001b[0m\n\u001b[1;32m   1794\u001b[0m             \u001b[0;32mfor\u001b[0m \u001b[0mepoch\u001b[0m\u001b[0;34m,\u001b[0m \u001b[0miterator\u001b[0m \u001b[0;32min\u001b[0m \u001b[0mdata_handler\u001b[0m\u001b[0;34m.\u001b[0m\u001b[0menumerate_epochs\u001b[0m\u001b[0;34m(\u001b[0m\u001b[0;34m)\u001b[0m\u001b[0;34m:\u001b[0m\u001b[0;34m\u001b[0m\u001b[0;34m\u001b[0m\u001b[0m\n\u001b[0;32m-> 1795\u001b[0;31m                 \u001b[0mself\u001b[0m\u001b[0;34m.\u001b[0m\u001b[0mreset_metrics\u001b[0m\u001b[0;34m(\u001b[0m\u001b[0;34m)\u001b[0m\u001b[0;34m\u001b[0m\u001b[0;34m\u001b[0m\u001b[0m\n\u001b[0m\u001b[1;32m   1796\u001b[0m                 \u001b[0mcallbacks\u001b[0m\u001b[0;34m.\u001b[0m\u001b[0mon_epoch_begin\u001b[0m\u001b[0;34m(\u001b[0m\u001b[0mepoch\u001b[0m\u001b[0;34m)\u001b[0m\u001b[0;34m\u001b[0m\u001b[0;34m\u001b[0m\u001b[0m\n\u001b[1;32m   1797\u001b[0m                 \u001b[0;32mwith\u001b[0m \u001b[0mdata_handler\u001b[0m\u001b[0;34m.\u001b[0m\u001b[0mcatch_stop_iteration\u001b[0m\u001b[0;34m(\u001b[0m\u001b[0;34m)\u001b[0m\u001b[0;34m:\u001b[0m\u001b[0;34m\u001b[0m\u001b[0;34m\u001b[0m\u001b[0m\n",
            "\u001b[0;32m/usr/local/lib/python3.10/dist-packages/keras/src/engine/training.py\u001b[0m in \u001b[0;36mreset_metrics\u001b[0;34m(self)\u001b[0m\n\u001b[1;32m   2701\u001b[0m         \u001b[0;32mreturn\u001b[0m \u001b[0mtf_utils\u001b[0m\u001b[0;34m.\u001b[0m\u001b[0msync_to_numpy_or_python_type\u001b[0m\u001b[0;34m(\u001b[0m\u001b[0mall_outputs\u001b[0m\u001b[0;34m)\u001b[0m\u001b[0;34m\u001b[0m\u001b[0;34m\u001b[0m\u001b[0m\n\u001b[1;32m   2702\u001b[0m \u001b[0;34m\u001b[0m\u001b[0m\n\u001b[0;32m-> 2703\u001b[0;31m     \u001b[0;32mdef\u001b[0m \u001b[0mreset_metrics\u001b[0m\u001b[0;34m(\u001b[0m\u001b[0mself\u001b[0m\u001b[0;34m)\u001b[0m\u001b[0;34m:\u001b[0m\u001b[0;34m\u001b[0m\u001b[0;34m\u001b[0m\u001b[0m\n\u001b[0m\u001b[1;32m   2704\u001b[0m         \"\"\"Resets the state of all the metrics in the model.\n\u001b[1;32m   2705\u001b[0m \u001b[0;34m\u001b[0m\u001b[0m\n",
            "\u001b[0;31mKeyboardInterrupt\u001b[0m: "
          ]
        }
      ]
    },
    {
      "cell_type": "code",
      "source": [
        "import tensorflow as tf\n",
        "from tensorflow.keras.preprocessing.image import ImageDataGenerator\n",
        "from tensorflow.keras.layers import Dropout\n",
        "from tensorflow.keras.callbacks import EarlyStopping\n",
        "from tensorflow.keras import layers\n",
        "\n",
        "num_classes = 5\n",
        "img_resolution = (256, 256)\n",
        "batch_size = 64\n",
        "dataset_dir = '/content/drive/MyDrive/classif/train5'\n",
        "\n",
        "# Создание генератора изображений\n",
        "datagen = ImageDataGenerator(\n",
        "    rescale=1./255,\n",
        "    validation_split=0.15,\n",
        "    rotation_range=30,  # Диапазон значений для случайного поворота изображений\n",
        "    shear_range=0.2,  # Интенсивность сдвига\n",
        "    zoom_range=0.2,  # Интенсивность зума\n",
        ")\n",
        "\n",
        "\n",
        "# Генераторы для обучающего и валидационного наборов\n",
        "train_generator = datagen.flow_from_directory(\n",
        "    dataset_dir,\n",
        "    target_size=img_resolution,\n",
        "    batch_size=batch_size,\n",
        "    class_mode='categorical',\n",
        "    subset='training')\n",
        "\n",
        "validation_generator = datagen.flow_from_directory(\n",
        "    dataset_dir,\n",
        "    target_size=img_resolution,\n",
        "    batch_size=batch_size,\n",
        "    class_mode='categorical',\n",
        "    subset='validation')\n",
        "\n",
        "model = tf.keras.models.Sequential([\n",
        "    #поступает изображение и начинается свёртка + ReLu\n",
        "    tf.keras.layers.Conv2D(16, (3, 3), activation='relu', input_shape=(256, 256, 3)),\n",
        "    #пуллинг\n",
        "    tf.keras.layers.MaxPooling2D(2, 2),\n",
        "    #свёртка + ReLu\n",
        "    tf.keras.layers.Conv2D(32, (3, 3), activation='relu'),\n",
        "    Dropout(0.1),\n",
        "    tf.keras.layers.MaxPooling2D(2, 2),\n",
        "\n",
        "\n",
        "    tf.keras.layers.Conv2D(64, (3, 3), activation='relu'),\n",
        "    Dropout(0.1),\n",
        "    tf.keras.layers.MaxPooling2D(2, 2),\n",
        "\n",
        "    tf.keras.layers.Conv2D(128, (3, 3), activation='relu'),\n",
        "    Dropout(0.1),\n",
        "    tf.keras.layers.MaxPooling2D(2, 2),\n",
        "    #Выпрямляющий слой\n",
        "    tf.keras.layers.Flatten(),\n",
        "    #полносвязный слой с  нейронами\n",
        "    tf.keras.layers.Dense(512, activation='relu'),\n",
        "    tf.keras.layers.Dense(72, activation='relu'),\n",
        "    Dropout(0.35),\n",
        "    #Выходной слой\n",
        "    tf.keras.layers.Dense(num_classes, activation='softmax')\n",
        "])\n",
        "\n",
        "lt = 0.001\n",
        "optimizer = tf.keras.optimizers.Adam(learning_rate = lt)\n",
        "\n",
        "model.compile(optimizer=optimizer, loss='categorical_crossentropy', metrics=['accuracy'])\n"
      ],
      "metadata": {
        "colab": {
          "base_uri": "https://localhost:8080/"
        },
        "id": "Fgkiw2sOhq-_",
        "outputId": "a2c9415d-ffa6-4457-ba85-1e2f92b404b3"
      },
      "execution_count": null,
      "outputs": [
        {
          "output_type": "stream",
          "name": "stdout",
          "text": [
            "Found 1190 images belonging to 5 classes.\n",
            "Found 205 images belonging to 5 classes.\n"
          ]
        }
      ]
    },
    {
      "cell_type": "code",
      "source": [
        "model.summary()"
      ],
      "metadata": {
        "id": "l8dCPoEck72P",
        "colab": {
          "base_uri": "https://localhost:8080/"
        },
        "outputId": "7e542b09-9f4b-4286-c882-4faeff56c411"
      },
      "execution_count": null,
      "outputs": [
        {
          "output_type": "stream",
          "name": "stdout",
          "text": [
            "Model: \"sequential_23\"\n",
            "_________________________________________________________________\n",
            " Layer (type)                Output Shape              Param #   \n",
            "=================================================================\n",
            " conv2d_75 (Conv2D)          (None, 254, 254, 16)      448       \n",
            "                                                                 \n",
            " max_pooling2d_75 (MaxPooli  (None, 127, 127, 16)      0         \n",
            " ng2D)                                                           \n",
            "                                                                 \n",
            " conv2d_76 (Conv2D)          (None, 125, 125, 32)      4640      \n",
            "                                                                 \n",
            " dropout_66 (Dropout)        (None, 125, 125, 32)      0         \n",
            "                                                                 \n",
            " max_pooling2d_76 (MaxPooli  (None, 62, 62, 32)        0         \n",
            " ng2D)                                                           \n",
            "                                                                 \n",
            " conv2d_77 (Conv2D)          (None, 60, 60, 64)        18496     \n",
            "                                                                 \n",
            " dropout_67 (Dropout)        (None, 60, 60, 64)        0         \n",
            "                                                                 \n",
            " max_pooling2d_77 (MaxPooli  (None, 30, 30, 64)        0         \n",
            " ng2D)                                                           \n",
            "                                                                 \n",
            " conv2d_78 (Conv2D)          (None, 28, 28, 128)       73856     \n",
            "                                                                 \n",
            " dropout_68 (Dropout)        (None, 28, 28, 128)       0         \n",
            "                                                                 \n",
            " max_pooling2d_78 (MaxPooli  (None, 14, 14, 128)       0         \n",
            " ng2D)                                                           \n",
            "                                                                 \n",
            " flatten_23 (Flatten)        (None, 25088)             0         \n",
            "                                                                 \n",
            " dense_68 (Dense)            (None, 512)               12845568  \n",
            "                                                                 \n",
            " dense_69 (Dense)            (None, 72)                36936     \n",
            "                                                                 \n",
            " dropout_69 (Dropout)        (None, 72)                0         \n",
            "                                                                 \n",
            " dense_70 (Dense)            (None, 5)                 365       \n",
            "                                                                 \n",
            "=================================================================\n",
            "Total params: 12980309 (49.52 MB)\n",
            "Trainable params: 12980309 (49.52 MB)\n",
            "Non-trainable params: 0 (0.00 Byte)\n",
            "_________________________________________________________________\n"
          ]
        }
      ]
    },
    {
      "cell_type": "code",
      "source": [
        "early_stop = EarlyStopping(monitor='val_loss', patience=4)\n",
        "from keras.callbacks import ReduceLROnPlateau\n",
        "red_lr = ReduceLROnPlateau(monitor = 'val_loss',patience = 2, verbose =1, factor = 0.1)\n",
        "history = model.fit(train_generator, validation_data=validation_generator, epochs=300, callbacks=[early_stop, red_lr])"
      ],
      "metadata": {
        "colab": {
          "base_uri": "https://localhost:8080/"
        },
        "id": "IGqFpA4bChp1",
        "outputId": "7b512e3e-e0e9-4c14-a192-557b926ab9eb"
      },
      "execution_count": null,
      "outputs": [
        {
          "output_type": "stream",
          "name": "stdout",
          "text": [
            "Epoch 1/300\n",
            "19/19 [==============================] - 36s 2s/step - loss: 1.5174 - accuracy: 0.3437 - val_loss: 1.2807 - val_accuracy: 0.4732 - lr: 0.0010\n",
            "Epoch 2/300\n",
            "19/19 [==============================] - 29s 2s/step - loss: 1.1206 - accuracy: 0.5151 - val_loss: 1.0468 - val_accuracy: 0.6146 - lr: 0.0010\n",
            "Epoch 3/300\n",
            "19/19 [==============================] - 29s 2s/step - loss: 0.9781 - accuracy: 0.6252 - val_loss: 0.8925 - val_accuracy: 0.6537 - lr: 0.0010\n",
            "Epoch 4/300\n",
            "19/19 [==============================] - 29s 2s/step - loss: 0.8878 - accuracy: 0.6622 - val_loss: 0.8113 - val_accuracy: 0.6976 - lr: 0.0010\n",
            "Epoch 5/300\n",
            "19/19 [==============================] - 29s 2s/step - loss: 0.7451 - accuracy: 0.7101 - val_loss: 0.7933 - val_accuracy: 0.7171 - lr: 0.0010\n",
            "Epoch 6/300\n",
            "19/19 [==============================] - 29s 2s/step - loss: 0.6926 - accuracy: 0.7487 - val_loss: 0.7659 - val_accuracy: 0.7366 - lr: 0.0010\n",
            "Epoch 7/300\n",
            "19/19 [==============================] - 29s 2s/step - loss: 0.6713 - accuracy: 0.7487 - val_loss: 0.7058 - val_accuracy: 0.7073 - lr: 0.0010\n",
            "Epoch 8/300\n",
            "19/19 [==============================] - 29s 2s/step - loss: 0.6316 - accuracy: 0.7588 - val_loss: 0.7062 - val_accuracy: 0.7366 - lr: 0.0010\n",
            "Epoch 9/300\n",
            "19/19 [==============================] - 35s 2s/step - loss: 0.5953 - accuracy: 0.7790 - val_loss: 0.6969 - val_accuracy: 0.7707 - lr: 0.0010\n",
            "Epoch 10/300\n",
            "19/19 [==============================] - 29s 1s/step - loss: 0.5622 - accuracy: 0.8025 - val_loss: 0.7277 - val_accuracy: 0.7268 - lr: 0.0010\n",
            "Epoch 11/300\n",
            "16/19 [========================>.....] - ETA: 3s - loss: 0.5597 - accuracy: 0.7939"
          ]
        }
      ]
    },
    {
      "cell_type": "code",
      "source": [
        "import matplotlib.pyplot as plt\n",
        "\n",
        "# Постройте график точности обучения и валидации\n",
        "plt.figure(figsize=(12, 4))\n",
        "plt.subplot(1, 2, 1)\n",
        "plt.plot(history.history['accuracy'])\n",
        "plt.plot(history.history['val_accuracy'])\n",
        "plt.title('График точности модели')\n",
        "plt.ylabel('Точность')\n",
        "plt.xlabel('Эпохи')\n",
        "plt.legend(['Обучающая', 'Валидационая'], loc='upper left')\n",
        "\n",
        "# Постройте график потерь обучения и валидации\n",
        "plt.subplot(1, 2, 2)\n",
        "plt.plot(history.history['loss'])\n",
        "plt.plot(history.history['val_loss'])\n",
        "plt.title('График потерь модели')\n",
        "plt.ylabel('Потери')\n",
        "plt.xlabel('Эпохи')\n",
        "plt.legend(['Обучающая', 'Валидационная'], loc='upper left')\n",
        "plt.tight_layout()\n",
        "plt.show()\n"
      ],
      "metadata": {
        "colab": {
          "base_uri": "https://localhost:8080/",
          "height": 407
        },
        "id": "oGoLH27F6eJ4",
        "outputId": "b65cb45c-494e-4701-8d90-084a26d1c3c5"
      },
      "execution_count": null,
      "outputs": [
        {
          "output_type": "display_data",
          "data": {
            "text/plain": [
              "<Figure size 1200x400 with 2 Axes>"
            ],
            "image/png": "[encoded data removed]"
          },
          "metadata": {}
        }
      ]
    },
    {
      "cell_type": "code",
      "source": [
        "import tensorflow as tf\n",
        "from tensorflow.keras.preprocessing.image import ImageDataGenerator\n",
        "from tensorflow.keras.layers import Dropout\n",
        "from tensorflow.keras.callbacks import EarlyStopping\n",
        "from tensorflow.keras import layers\n",
        "test_dataset_dir = '/content/drive/MyDrive/classif/test5'\n",
        "img_resolution = (256, 256)\n",
        "\n",
        "batch_size = 64\n",
        "\n",
        "# Генератор для тестового набора данных\n",
        "test_generator = datagen.flow_from_directory(-\n",
        "    test_dataset_dir,\n",
        "    target_size=img_resolution,\n",
        "    batch_size=batch_size,\n",
        "    class_mode='categorical')\n",
        "\n",
        "loss, accuracy = model.evaluate(test_generator)\n",
        "print(f'Точность на тестовом наборе данных: {accuracy*100:.2f}%')"
      ],
      "metadata": {
        "colab": {
          "base_uri": "https://localhost:8080/"
        },
        "id": "SDVgxjJZYKEI",
        "outputId": "6c119f21-f9cd-4cfe-b12a-f0883a21f968"
      },
      "execution_count": null,
      "outputs": [
        {
          "output_type": "stream",
          "name": "stdout",
          "text": [
            "Found 155 images belonging to 5 classes.\n",
            "3/3 [==============================] - 27s 13s/step - loss: 0.3719 - accuracy: 0.9161\n",
            "Точность на тестовом наборе данных: 91.61%\n"
          ]
        }
      ]
    },
    {
      "cell_type": "code",
      "source": [
        "datagen = ImageDataGenerator(\n",
        "    rescale=1./255,\n",
        "    validation_split=0.1,\n",
        "    rotation_range=30,  # Диапазон значений для случайного поворота изображений\n",
        "    shear_range=0.2,  # Интенсивность сдвига\n",
        "    zoom_range=0.2,  # Интенсивность зума\n",
        ")"
      ],
      "metadata": {
        "id": "TWjZWLdarwur"
      },
      "execution_count": null,
      "outputs": []
    },
    {
      "cell_type": "code",
      "source": [
        "import matplotlib.pyplot as plt\n",
        "import numpy as np\n",
        "\n",
        "# Получение одного батча изображений и меток\n",
        "images_batch, labels_batch = next(train_generator)\n",
        "\n",
        "# Отображение первых 5 изображений\n",
        "for i in range(5):\n",
        "    plt.imshow(images_batch[i])\n",
        "    plt.title(np.argmax(labels_batch[i]))  # Заголовок - это класс изображения\n",
        "    plt.show()\n"
      ],
      "metadata": {
        "id": "9j7O0YNrhoqE"
      },
      "execution_count": null,
      "outputs": []
    },
    {
      "cell_type": "code",
      "source": [
        "from tensorflow.keras.preprocessing.image import ImageDataGenerator\n",
        "img_resolution = (256, 256)\n",
        "\n",
        "batch_size = 64\n",
        "datagen = ImageDataGenerator(\n",
        "    rescale=1./255,\n",
        "    validation_split=0.1,\n",
        "    rotation_range=30,  # Диапазон значений для случайного поворота изображений\n",
        "    shear_range=0.2,  # Интенсивность сдвига\n",
        "    zoom_range=0.2,  # Интенсивность зума\n",
        ")\n",
        "dataset_dir = '/content/drive/MyDrive/classif/train5'\n",
        "# Генераторы для обучающего и валидационного наборов\n",
        "train_generator = datagen.flow_from_directory(\n",
        "    dataset_dir,\n",
        "    target_size=img_resolution,\n",
        "    batch_size=batch_size,\n",
        "    class_mode='categorical',\n",
        "    subset='training')\n"
      ],
      "metadata": {
        "colab": {
          "base_uri": "https://localhost:8080/"
        },
        "id": "NId6sTrnkJJn",
        "outputId": "f14f1041-2224-4c60-ba2e-39ceacbbf962"
      },
      "execution_count": null,
      "outputs": [
        {
          "output_type": "stream",
          "name": "stdout",
          "text": [
            "Found 1236 images belonging to 5 classes.\n"
          ]
        }
      ]
    },
    {
      "cell_type": "code",
      "source": [
        "# Сохранение модели\n",
        "model.save('5classmodel_acu82.h5')\n",
        "\n",
        "# Загрузка модели на Google Диск\n",
        "from google.colab import drive\n",
        "drive.mount('/content/gdrive')\n",
        "\n",
        "!cp 5classmodel_acu82.h5 /content/gdrive/My\\ Drive/"
      ],
      "metadata": {
        "colab": {
          "base_uri": "https://localhost:8080/"
        },
        "id": "OwGI9kFioy-4",
        "outputId": "b4b16df0-b6f8-4c4a-c0b8-bc696eec471b"
      },
      "execution_count": null,
      "outputs": [
        {
          "output_type": "stream",
          "name": "stderr",
          "text": [
            "/usr/local/lib/python3.10/dist-packages/keras/src/engine/training.py:3103: UserWarning: You are saving your model as an HDF5 file via `model.save()`. This file format is considered legacy. We recommend using instead the native Keras format, e.g. `model.save('my_model.keras')`.\n",
            "  saving_api.save_model(\n"
          ]
        },
        {
          "output_type": "stream",
          "name": "stdout",
          "text": [
            "Mounted at /content/gdrive\n"
          ]
        }
      ]
    },
    {
      "cell_type": "code",
      "source": [
        "from tensorflow.keras.models import load_model\n",
        "\n",
        "model.save('5classmodel_acu80.keras')\n",
        "\n",
        "!cp 5classmodel_acu80.keras /content/gdrive/My\\ Drive/"
      ],
      "metadata": {
        "id": "4AtpR5K-o76X"
      },
      "execution_count": null,
      "outputs": []
    },
    {
      "cell_type": "code",
      "source": [
        "from tensorflow.keras.models import load_model\n",
        "\n",
        "model = load_model('/content/drive/MyDrive/5classmodel_acu80.h5')\n"
      ],
      "metadata": {
        "id": "pklOASwgrS6i"
      },
      "execution_count": null,
      "outputs": []
    },
    {
      "cell_type": "code",
      "source": [
        "print(train_generator.class_indices)"
      ],
      "metadata": {
        "colab": {
          "base_uri": "https://localhost:8080/"
        },
        "id": "CM2Qg1Lgp8fJ",
        "outputId": "3715c8d5-f7ba-41ea-d739-cd0a4024d866"
      },
      "execution_count": null,
      "outputs": [
        {
          "output_type": "stream",
          "name": "stdout",
          "text": [
            "{'dolphin': 0, 'giraffe': 1, 'koala': 2, 'tapir': 3, 'zebra': 4}\n"
          ]
        }
      ]
    },
    {
      "cell_type": "code",
      "source": [
        "from tensorflow.keras.preprocessing import image\n",
        "import numpy as np\n",
        "\n",
        "\n",
        "img_path = '/content/1864473.png'\n",
        "\n",
        "# Загрузка и предварительная обработка изображения\n",
        "img = image.load_img(img_path, target_size=img_resolution)\n",
        "img_array = image.img_to_array(img)\n",
        "img_array = np.expand_dims(img_array, axis=0)\n",
        "img_array /= 255.\n",
        "\n",
        "\n",
        "predictions = model.predict(img_array)\n",
        "predicted_class = np.argmax(predictions[0])\n",
        "\n",
        "\n",
        "print(f'Predicted class: {predicted_class}')"
      ],
      "metadata": {
        "colab": {
          "base_uri": "https://localhost:8080/",
          "height": 332
        },
        "id": "JX7rLe5lp326",
        "outputId": "baa2cfc8-dd02-4706-9b7e-3ea9da41c9f2"
      },
      "execution_count": null,
      "outputs": [
        {
          "output_type": "error",
          "ename": "FileNotFoundError",
          "evalue": "[Errno 2] No such file or directory: '/content/1864473.png'",
          "traceback": [
            "\u001b[0;31m---------------------------------------------------------------------------\u001b[0m",
            "\u001b[0;31mFileNotFoundError\u001b[0m                         Traceback (most recent call last)",
            "\u001b[0;32m<ipython-input-5-ff0de7c28605>\u001b[0m in \u001b[0;36m<cell line: 8>\u001b[0;34m()\u001b[0m\n\u001b[1;32m      6\u001b[0m \u001b[0;34m\u001b[0m\u001b[0m\n\u001b[1;32m      7\u001b[0m \u001b[0;31m# Загрузка и предварительная обработка изображения\u001b[0m\u001b[0;34m\u001b[0m\u001b[0;34m\u001b[0m\u001b[0m\n\u001b[0;32m----> 8\u001b[0;31m \u001b[0mimg\u001b[0m \u001b[0;34m=\u001b[0m \u001b[0mimage\u001b[0m\u001b[0;34m.\u001b[0m\u001b[0mload_img\u001b[0m\u001b[0;34m(\u001b[0m\u001b[0mimg_path\u001b[0m\u001b[0;34m,\u001b[0m \u001b[0mtarget_size\u001b[0m\u001b[0;34m=\u001b[0m\u001b[0mimg_resolution\u001b[0m\u001b[0;34m)\u001b[0m\u001b[0;34m\u001b[0m\u001b[0;34m\u001b[0m\u001b[0m\n\u001b[0m\u001b[1;32m      9\u001b[0m \u001b[0mimg_array\u001b[0m \u001b[0;34m=\u001b[0m \u001b[0mimage\u001b[0m\u001b[0;34m.\u001b[0m\u001b[0mimg_to_array\u001b[0m\u001b[0;34m(\u001b[0m\u001b[0mimg\u001b[0m\u001b[0;34m)\u001b[0m\u001b[0;34m\u001b[0m\u001b[0;34m\u001b[0m\u001b[0m\n\u001b[1;32m     10\u001b[0m \u001b[0mimg_array\u001b[0m \u001b[0;34m=\u001b[0m \u001b[0mnp\u001b[0m\u001b[0;34m.\u001b[0m\u001b[0mexpand_dims\u001b[0m\u001b[0;34m(\u001b[0m\u001b[0mimg_array\u001b[0m\u001b[0;34m,\u001b[0m \u001b[0maxis\u001b[0m\u001b[0;34m=\u001b[0m\u001b[0;36m0\u001b[0m\u001b[0;34m)\u001b[0m\u001b[0;34m\u001b[0m\u001b[0;34m\u001b[0m\u001b[0m\n",
            "\u001b[0;32m/usr/local/lib/python3.10/dist-packages/keras/src/utils/image_utils.py\u001b[0m in \u001b[0;36mload_img\u001b[0;34m(path, grayscale, color_mode, target_size, interpolation, keep_aspect_ratio)\u001b[0m\n\u001b[1;32m    420\u001b[0m         \u001b[0;32mif\u001b[0m \u001b[0misinstance\u001b[0m\u001b[0;34m(\u001b[0m\u001b[0mpath\u001b[0m\u001b[0;34m,\u001b[0m \u001b[0mpathlib\u001b[0m\u001b[0;34m.\u001b[0m\u001b[0mPath\u001b[0m\u001b[0;34m)\u001b[0m\u001b[0;34m:\u001b[0m\u001b[0;34m\u001b[0m\u001b[0;34m\u001b[0m\u001b[0m\n\u001b[1;32m    421\u001b[0m             \u001b[0mpath\u001b[0m \u001b[0;34m=\u001b[0m \u001b[0mstr\u001b[0m\u001b[0;34m(\u001b[0m\u001b[0mpath\u001b[0m\u001b[0;34m.\u001b[0m\u001b[0mresolve\u001b[0m\u001b[0;34m(\u001b[0m\u001b[0;34m)\u001b[0m\u001b[0;34m)\u001b[0m\u001b[0;34m\u001b[0m\u001b[0;34m\u001b[0m\u001b[0m\n\u001b[0;32m--> 422\u001b[0;31m         \u001b[0;32mwith\u001b[0m \u001b[0mopen\u001b[0m\u001b[0;34m(\u001b[0m\u001b[0mpath\u001b[0m\u001b[0;34m,\u001b[0m \u001b[0;34m\"rb\"\u001b[0m\u001b[0;34m)\u001b[0m \u001b[0;32mas\u001b[0m \u001b[0mf\u001b[0m\u001b[0;34m:\u001b[0m\u001b[0;34m\u001b[0m\u001b[0;34m\u001b[0m\u001b[0m\n\u001b[0m\u001b[1;32m    423\u001b[0m             \u001b[0mimg\u001b[0m \u001b[0;34m=\u001b[0m \u001b[0mpil_image\u001b[0m\u001b[0;34m.\u001b[0m\u001b[0mopen\u001b[0m\u001b[0;34m(\u001b[0m\u001b[0mio\u001b[0m\u001b[0;34m.\u001b[0m\u001b[0mBytesIO\u001b[0m\u001b[0;34m(\u001b[0m\u001b[0mf\u001b[0m\u001b[0;34m.\u001b[0m\u001b[0mread\u001b[0m\u001b[0;34m(\u001b[0m\u001b[0;34m)\u001b[0m\u001b[0;34m)\u001b[0m\u001b[0;34m)\u001b[0m\u001b[0;34m\u001b[0m\u001b[0;34m\u001b[0m\u001b[0m\n\u001b[1;32m    424\u001b[0m     \u001b[0;32melse\u001b[0m\u001b[0;34m:\u001b[0m\u001b[0;34m\u001b[0m\u001b[0;34m\u001b[0m\u001b[0m\n",
            "\u001b[0;31mFileNotFoundError\u001b[0m: [Errno 2] No such file or directory: '/content/1864473.png'"
          ]
        }
      ]
    },
    {
      "cell_type": "code",
      "source": [
        "test_dataset_dir = '/content/drive/MyDrive/classif/test5'\n",
        "\n",
        "\n",
        "test_generator = datagen.flow_from_directory(\n",
        "    test_dataset_dir,\n",
        "    target_size=img_resolution,\n",
        "    batch_size=batch_size,\n",
        "    class_mode='categorical',\n",
        "    shuffle=False)\n",
        "\n",
        "loss, accuracy = model.evaluate(test_generator)\n",
        "print(f'Точность на тестовом наборе данных: {accuracy*100:.2f}%')"
      ],
      "metadata": {
        "colab": {
          "base_uri": "https://localhost:8080/"
        },
        "id": "BwARrkR68QDb",
        "outputId": "02c2f9d8-6349-4a2a-f5b7-5b04a1f8c5a0"
      },
      "execution_count": null,
      "outputs": [
        {
          "output_type": "stream",
          "name": "stdout",
          "text": [
            "Found 153 images belonging to 5 classes.\n",
            "3/3 [==============================] - 30s 13s/step - loss: 0.6247 - accuracy: 0.7974\n",
            "Точность на тестовом наборе данных: 79.74%\n"
          ]
        }
      ]
    },
    {
      "cell_type": "code",
      "source": [
        "from sklearn.metrics import classification_report\n",
        "import numpy as np\n",
        "\n",
        "predictions = model.predict(test_generator)\n",
        "predicted_classes = np.argmax(predictions, axis=1)\n",
        "\n",
        "true_classes = test_generator.classes\n",
        "\n",
        "# Создание отчета о классификации\n",
        "report = classification_report(true_classes, predicted_classes, target_names=test_generator.class_indices.keys())\n",
        "print(report)\n"
      ],
      "metadata": {
        "colab": {
          "base_uri": "https://localhost:8080/"
        },
        "id": "ExGN2zXcqxGf",
        "outputId": "2c407f36-d9ad-4957-916c-26b48b2f51fa"
      },
      "execution_count": null,
      "outputs": [
        {
          "output_type": "stream",
          "name": "stdout",
          "text": [
            "3/3 [==============================] - 8s 2s/step\n",
            "              precision    recall  f1-score   support\n",
            "\n",
            "     dolphin       0.91      0.87      0.89        23\n",
            "     giraffe       0.74      0.71      0.73        28\n",
            "       koala       0.66      0.72      0.69        29\n",
            "       tapir       0.73      0.79      0.76        34\n",
            "       zebra       0.94      0.85      0.89        39\n",
            "\n",
            "    accuracy                           0.79       153\n",
            "   macro avg       0.80      0.79      0.79       153\n",
            "weighted avg       0.80      0.79      0.79       153\n",
            "\n"
          ]
        }
      ]
    },
    {
      "cell_type": "code",
      "source": [
        "from sklearn.metrics import confusion_matrix\n",
        "import seaborn as sns\n",
        "import matplotlib.pyplot as plt\n",
        "\n",
        "# Создание матрицы ошибок\n",
        "cm = confusion_matrix(true_classes, predicted_classes)\n",
        "\n",
        "# Визуализация матрицы ошибок\n",
        "plt.figure(figsize=(10, 7))\n",
        "sns.heatmap(cm, annot=True, fmt='d', cmap='Blues')\n",
        "plt.xlabel('Предсказанные классы')\n",
        "plt.ylabel('Истинные классы')\n",
        "plt.show()\n"
      ],
      "metadata": {
        "colab": {
          "base_uri": "https://localhost:8080/",
          "height": 619
        },
        "id": "sgNQ1nEEeDp_",
        "outputId": "b8dbfd66-ad68-4366-ea2f-9a3a0ea9b68e"
      },
      "execution_count": null,
      "outputs": [
        {
          "output_type": "display_data",
          "data": {
            "text/plain": [
              "<Figure size 1000x700 with 2 Axes>"
            ],
            "image/png": "[encoded data removed]"
          },
          "metadata": {}
        }
      ]
    }
  ],
  "metadata": {
    "colab": {
      "provenance": [],
      "gpuType": "T4",
      "mount_file_id": "1RVhBgUN0bvybNnWgchGJoQ_KmZmmxhq2",
      "authorship_tag": "ABX9TyOtAdKYWSplFEmliMIVL3ig",
      "include_colab_link": true
    },
    "kernelspec": {
      "display_name": "Python 3",
      "name": "python3"
    },
    "language_info": {
      "name": "python"
    },
    "accelerator": "GPU"
  },
  "nbformat": 4,
  "nbformat_minor": 0
}